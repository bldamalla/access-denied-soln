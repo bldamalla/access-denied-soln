{
 "cells": [
  {
   "cell_type": "markdown",
   "metadata": {},
   "source": [
    "## Competition Finals : `Access ? Granted : Denied`\n",
    "\n",
    "The following notebook contains a general solution to the recently concluded PSHS-Samsung InfoTech Challenge."
   ]
  },
  {
   "cell_type": "markdown",
   "metadata": {},
   "source": [
    "### Problem statement\n",
    "---\n",
    "\n",
    "Siblings John and Jane communicate with each other through small encrypted computer networks. Usually, such networks are small and thus, simple to operate on. However, John has to go overseas to pursue his dreams on being the first man to solve the Collatz conjecture. Hence, the encrypted computer networks have multiplied in size and complexity.\n",
    "\n",
    "Being far from home, John has developed measures to ensure that their system is encrypted. First, is that all of the computers in the network are closed. Second is that, John will only open half the total number of computers to prevent possible data tapping. However, due to percolation restrictions, the terminal computers may not be able to communicate all the time. When certain paths exist, John must be able to find the most cost-efficient path to communicate with his sister.\n",
    "\n",
    "From what is given, it can be inferred that these siblings may be hiding information from network tapping systems. Tap Co. has developed a cheap solution to simplifying unknown computer networks into simple grids and using three signal receptors to determine the relative positions of network subsets by triangulation.\n",
    "\n",
    "From the solution of Tap Co. it was found out that John uses a $15 x 15$ computer network, a 255 computer network, aside from the terminal computers used by the siblings, arranged in a $15 x 15$ graph. In this model, we will incorporate Julia's peculiar property of using column-major matrices. The \"top-left\" computer will be referred to as the node $(1, 1)$. Signal receptors are placed on nodes $(-1, 8), (16, -1)$, and $(16, 16)$.\n",
    "\n",
    "Given sets of times for the signal to reach the three receptors, determine if John was able to communicate with Jane."
   ]
  },
  {
   "cell_type": "markdown",
   "metadata": {},
   "source": [
    "### Geometric Solution\n",
    "---\n",
    "\n",
    "The solution implemented below follows from the idea that the position of a point, relative to the positions of three points, can be determined using geometric methods. Three circles, centered at the reference points, can be drawn with their radii to be the appropriate distances to the point of interest where they all intersect. Presented in this [link][seis] is an application of _Triangulation_ in seismology.\n",
    "\n",
    "For a computational representation of the solution, the appropriate standard equations of the circles must be constructed first from the given centers of the circles. Two equations can be constructed from choosing two pairs of circles and hence the coordinates of the point of interest may be obtained.\n",
    "\n",
    "In the solution, Julia's implementation of a [matrix backsolve][bcks], is used to solve for the linear system. To learn more about matrix multiplication, [Khan Academy][khanm], provides a good explanation on matrix multiplication. The matrix backsolve is a \"matrix\" division. Let's say given $Ax = B$ then $x = A$ \\\\ $B$ where \\\\ is the backsolve operator.\n",
    "\n",
    "A `Point` struct was defined to represent a point. A `TriangleSys` struct was defined to simplify triangulation input for fixed triangles. \n",
    "\n",
    "[seis]: http://www.qrg.northwestern.edu/projects/vss/docs/navigation/1-what-is-triangulation.html\n",
    "[bcks]: https://stackoverflow.com/questions/45306412/how-to-use-the-backslash-operator-in-julia\n",
    "[khanm]: https://www.khanacademy.org/math/precalculus/precalc-matrices/multiplying-matrices-by-matrices/v/multiplying-a-matrix-by-a-matrix"
   ]
  },
  {
   "cell_type": "code",
   "execution_count": 1,
   "metadata": {},
   "outputs": [
    {
     "data": {
      "text/plain": [
       "times (generic function with 1 method)"
      ]
     },
     "execution_count": 1,
     "metadata": {},
     "output_type": "execute_result"
    }
   ],
   "source": [
    "# the Point struct to represent a point\n",
    "struct Point{T}\n",
    "  x::T ## the left coordinate (vertical displacement from (0,0))\n",
    "  y::T ## the right coordinate (horizontal displacement ftom (0, 0))\n",
    "end\n",
    "\n",
    "# the point should only have two coordinates\n",
    "Point(x::Vector{Int}) = size(x) != 2 ? error(\"Vector should have two values\") : Point(x...)\n",
    "\n",
    "# the TriangleSys struct to represent the system of three signal receptors\n",
    "struct TriangleSys{T}\n",
    "  A::Point{T}\n",
    "  B::Point{T}\n",
    "  C::Point{T}\n",
    "end\n",
    "\n",
    "# the given TriangleSys object\n",
    "const TAPCO = TriangleSys(Point(-1.0, 8.0), Point(16.0, -1.0), Point(16.0, 16.0))\n",
    "\n",
    "# this uses the simplest solution to triangulation.\n",
    "# this returns a Vector{T} of length 2 to represent the coordinates of the opened computer\n",
    "function solvetriangle(B::TriangleSys{T}, r1::T, r2::T, r3::T) where T <: AbstractFloat\n",
    "  rhs = [r1^2-r2^2+B.B.x^2-B.A.x^2+B.B.y^2-B.A.y^2; r2^2-r3^2+B.C.x^2-B.B.x^2+B.C.y^2-B.B.y^2]\n",
    "  lhs = [B.B.x-B.A.x B.B.y-B.A.y; B.C.x-B.B.x B.C.y-B.B.y].*2\n",
    "  return lhs\\rhs\n",
    "end\n",
    "\n",
    "# function to calculate the distances of a Point with respect to the three points in a TriangleSys struct\n",
    "function times(B::TriangleSys{T}, l::Point{T}) where T <: AbstractFloat\n",
    "    return [hypot(B.A.x-l.x, B.A.y-l.y), hypot(B.B.x-l.x, B.B.y-l.y), hypot(B.C.x-l.x, B.C.y-l.y)]\n",
    "end"
   ]
  },
  {
   "cell_type": "markdown",
   "metadata": {},
   "source": [
    "### Percolation Solution\n",
    "---\n",
    "\n",
    "The following implementation is derived from the java implentation of the Percolation [solution][perc]. The problem and the `Quick Union` solution is given in the following book by Sedgewick and Wayne (Princeton) on [Algorithms][book] (p. 216-224).\n",
    "\n",
    "[perc]: https://github.com/kristinpeterson/coursera_algorithms/tree/master/Percolation\n",
    "[book]: http://www.albertstam.com/Algorithms.pdf"
   ]
  },
  {
   "cell_type": "code",
   "execution_count": 2,
   "metadata": {},
   "outputs": [
    {
     "data": {
      "text/plain": [
       "printO (generic function with 1 method)"
      ]
     },
     "execution_count": 2,
     "metadata": {},
     "output_type": "execute_result"
    }
   ],
   "source": [
    "# the representation of a computer network (a Cell struct)\n",
    "mutable struct Cell\n",
    "    r::Int\n",
    "    o::Bool\n",
    "end\n",
    "\n",
    "Cell(r::Int) = Cell(r, false)\n",
    "function open(c::Cell)\n",
    "    c.o = true\n",
    "end\n",
    "root(c::Cell) = c.r; isOpen(c::Cell) = c.o\n",
    "\n",
    "# the representation of a network grid\n",
    "mutable struct Percolation\n",
    "    h::Int\n",
    "    w::Int\n",
    "    a::Vector{Cell}\n",
    "end\n",
    "\n",
    "# object constructor\n",
    "Percolation(h, w) = Percolation(h, w, Cell.(Vector(1:h*w)))\n",
    "# coordinate converter\n",
    "c_vec(t::Percolation, h::Int, w::Int) = 0 < h < t.h+1 && 0 < w < t.w+1 ? t.h*(w-1)+h : throw(BoundsError(t))\n",
    "# open cell\n",
    "openT(t::Percolation, h::Int, w::Int) = open(t.a[c_vec(t, h, w)])\n",
    "\n",
    "# check if cell is open in Percolation\n",
    "isOpen(t::Percolation, h::Int, w::Int) = isOpen(t.a[c_vec(t, h, w)])\n",
    "\n",
    "# get the \"root\" of the computer as discussed by the reference\n",
    "function root(t::Percolation, h::Int, w::Int)\n",
    "    ret = root(t.a[c_vec(t, h, w)])\n",
    "    while ret != root(t.a[ret])\n",
    "        ret = root(t.a[ret])\n",
    "    end\n",
    "    return ret\n",
    "end\n",
    "\n",
    "# connect the computers given their coordinates\n",
    "function unionT(t::Percolation, h1::Int, w1::Int, h2::Int, w2::Int)\n",
    "    if !isOpen(t, h1, w1) return\n",
    "    else\n",
    "        l = root(t.a[c_vec(t, h1, w1)]); r = root(t, h2, w2)\n",
    "        t.a[c_vec(t, h1, w1)].r = l > r ? r : l\n",
    "        t.a[c_vec(t, h2, w2)].r = t.a[c_vec(t, h1, w1)].r\n",
    "    end\n",
    "end\n",
    "\n",
    "# connect open computers around a cell\n",
    "function openunion(t::Percolation, h::Int, w::Int)\n",
    "    openT(t, h, w)\n",
    "    try unionT(t, h, w-1, h, w) end\n",
    "    try unionT(t, h-1, w, h, w) end\n",
    "    try unionT(t, h+1, w, h, w) end\n",
    "    try unionT(t, h, w+1, h, w) end\n",
    "end\n",
    "\n",
    "# test if the John and Jane are connected\n",
    "percolates(t::Percolation) = !isempty([root(t, i, t.w) for i=1:t.h if root(t, i, t.w) < t.h+1])\n",
    "\n",
    "# print the computer system (roots of computers)\n",
    "function printT(t::Percolation)\n",
    "    for i=1:t.w\n",
    "        for j=1:t.h\n",
    "            print(root(t, i, j), ' ')\n",
    "        end\n",
    "        print('\\n')\n",
    "    end\n",
    "end\n",
    "         \n",
    "# print the computer system (open computers)\n",
    "function printO(t::Percolation)\n",
    "    for i=1:t.w\n",
    "        for j=1:t.h\n",
    "            print(isOpen(t, i, j) ? 1 : 0, ' ')\n",
    "        end\n",
    "        print('\\n')\n",
    "    end\n",
    "end"
   ]
  },
  {
   "cell_type": "markdown",
   "metadata": {},
   "source": [
    "Print a random percolating system and print the system (`printO`)"
   ]
  },
  {
   "cell_type": "code",
   "execution_count": 3,
   "metadata": {},
   "outputs": [
    {
     "name": "stdout",
     "output_type": "stream",
     "text": [
      "1 1 1 1 0 1 1 1 1 1 0 1 0 1 1 \n",
      "1 1 1 1 1 0 1 1 1 0 1 1 0 1 1 \n",
      "1 1 1 0 1 1 0 1 1 1 0 1 0 0 0 \n",
      "1 1 1 0 1 1 1 1 1 1 1 0 1 1 1 \n",
      "1 1 0 1 1 1 1 0 0 0 0 1 0 1 1 \n",
      "0 1 1 1 0 0 1 1 1 1 1 1 1 1 1 \n",
      "1 1 1 1 1 0 1 1 0 0 0 1 0 1 1 \n",
      "0 1 1 0 0 0 0 0 1 1 0 1 0 1 1 \n",
      "0 1 1 1 0 1 0 1 1 0 0 1 0 0 1 \n",
      "0 1 0 1 1 1 0 1 1 1 1 0 1 0 1 \n",
      "1 0 0 1 1 1 1 0 1 1 0 1 1 1 1 \n",
      "1 1 0 0 1 1 1 1 1 1 0 0 1 0 1 \n",
      "1 1 0 0 1 1 1 1 1 1 0 1 1 1 1 \n",
      "0 0 1 1 1 0 1 1 1 1 1 1 0 1 1 \n",
      "1 1 0 1 1 0 1 1 1 0 1 1 0 0 1 \n",
      "0.6977777777777778"
     ]
    }
   ],
   "source": [
    "t = Percolation(15, 15)\n",
    "a = Array{Float64}(2)\n",
    "while !percolates(t)\n",
    "    c = Int.(ceil.(rand(2).*15))\n",
    "    if !isOpen(t, c...)\n",
    "        openunion(t, c...); a = hcat(a, c)\n",
    "    else\n",
    "        continue\n",
    "    end\n",
    "end\n",
    "printO(t); a; print(size(a)[2]/225)"
   ]
  },
  {
   "cell_type": "markdown",
   "metadata": {},
   "source": [
    "### Solutions to the problems given at the event\n",
    "---\n",
    "\n",
    "Each computer has a different dataset given to them representing the distances traveled by the signals to reach the receptors. All solutions are given below."
   ]
  },
  {
   "cell_type": "markdown",
   "metadata": {},
   "source": [
    "Import the needed package for loading CSVs (`CSV.jl`)"
   ]
  },
  {
   "cell_type": "code",
   "execution_count": 4,
   "metadata": {},
   "outputs": [],
   "source": [
    "using CSV"
   ]
  },
  {
   "cell_type": "code",
   "execution_count": 5,
   "metadata": {},
   "outputs": [
    {
     "name": "stdout",
     "output_type": "stream",
     "text": [
      "true"
     ]
    }
   ],
   "source": [
    "w = Array{Float64}(CSV.read(\"cp_01/in.csv\"))\n",
    "t = Percolation(15, 15)\n",
    "for i=1:size(w)[1]\n",
    "  openunion(t, Int.(round.(solvetriangle(TAPCO, w[i,:]...)))...)\n",
    "end\n",
    "print(percolates(t))"
   ]
  },
  {
   "cell_type": "markdown",
   "metadata": {},
   "source": [
    "The system percolates!"
   ]
  },
  {
   "cell_type": "code",
   "execution_count": 6,
   "metadata": {},
   "outputs": [
    {
     "name": "stdout",
     "output_type": "stream",
     "text": [
      "1 1 0 1 1 1 0 1 0 0 0 1 1 1 0 \n",
      "0 1 0 0 1 0 0 1 1 1 1 0 1 1 1 \n",
      "0 1 1 0 1 0 0 1 0 1 1 1 0 1 1 \n",
      "0 1 1 0 1 0 0 1 1 1 1 1 0 1 0 \n",
      "1 0 1 1 1 1 1 0 1 1 1 1 0 1 1 \n",
      "1 1 1 1 1 1 1 1 0 1 1 1 0 1 1 \n",
      "0 1 1 1 1 1 1 1 1 1 1 1 0 1 0 \n",
      "0 1 0 1 1 1 0 1 0 1 0 1 0 1 1 \n",
      "0 0 1 1 1 1 0 1 1 1 0 1 1 1 1 \n",
      "1 1 0 0 1 1 1 1 0 1 0 1 0 1 1 \n",
      "1 1 0 1 1 1 1 0 1 0 1 1 1 1 1 \n",
      "1 1 1 1 1 0 0 1 1 1 1 1 0 0 0 \n",
      "1 0 0 0 1 1 1 0 1 1 1 1 1 1 0 \n",
      "0 0 1 0 1 1 1 1 1 1 0 0 1 1 0 \n",
      "1 0 1 0 0 0 1 0 0 1 1 1 0 1 1 \n",
      "\n",
      "1 1 31 46 46 46 91 106 121 136 151 166 166 166 211 \n",
      "2 1 32 47 46 77 92 106 106 106 106 167 166 166 166 \n",
      "3 1 1 48 46 78 93 106 123 106 106 106 183 166 166 \n",
      "4 1 1 49 1 79 94 106 106 106 106 106 184 166 214 \n",
      "5 20 1 1 1 1 1 110 106 106 106 106 185 166 166 \n",
      "5 5 5 1 5 5 1 1 126 1 1 1 186 166 166 \n",
      "7 5 5 1 5 1 1 1 1 1 1 1 187 166 217 \n",
      "8 5 38 5 5 5 98 1 128 1 158 1 188 166 1 \n",
      "9 24 5 5 5 5 99 1 1 1 159 1 1 1 1 \n",
      "10 10 40 55 5 5 5 5 130 1 160 117 190 1 1 \n",
      "10 10 41 10 5 5 5 116 117 146 117 117 117 117 1 \n",
      "10 10 10 10 5 87 102 117 117 117 117 117 192 207 222 \n",
      "10 28 43 58 5 5 5 118 117 117 117 117 117 117 223 \n",
      "14 29 44 59 5 5 5 5 5 117 164 179 117 117 224 \n",
      "15 30 44 60 75 90 5 120 135 117 117 117 195 117 117 \n"
     ]
    }
   ],
   "source": [
    "printO(t); println(); printT(t)"
   ]
  },
  {
   "cell_type": "markdown",
   "metadata": {},
   "source": [
    "The cell above shows the expected output of the group given the dataset. There are numerous paths from the left to the right parts of the network. The participants were only required to show one. Open computers are shown as `1` in the above output. _Roots_ of computers are displayed in the below grid."
   ]
  },
  {
   "cell_type": "code",
   "execution_count": 7,
   "metadata": {},
   "outputs": [
    {
     "name": "stdout",
     "output_type": "stream",
     "text": [
      "true"
     ]
    }
   ],
   "source": [
    "w = Array{Float64}(CSV.read(\"cp_08/in.csv\"))\n",
    "t = Percolation(15, 15)\n",
    "for i=1:size(w)[1]\n",
    "  openunion(t, Int.(round.(solvetriangle(TAPCO, w[i,:]...)))...)\n",
    "end\n",
    "print(percolates(t))"
   ]
  },
  {
   "cell_type": "markdown",
   "metadata": {},
   "source": [
    "The system percolates!"
   ]
  },
  {
   "cell_type": "code",
   "execution_count": 8,
   "metadata": {},
   "outputs": [
    {
     "name": "stdout",
     "output_type": "stream",
     "text": [
      "0 0 1 0 0 0 0 1 1 1 1 1 1 0 1 \n",
      "1 1 0 1 0 1 0 1 0 1 0 1 1 0 1 \n",
      "0 1 1 1 1 1 0 0 1 1 1 0 1 1 1 \n",
      "1 1 0 1 0 0 0 0 1 1 1 0 1 0 0 \n",
      "1 1 0 1 0 1 0 1 1 1 1 1 1 0 1 \n",
      "0 1 1 1 1 1 0 1 1 1 1 0 1 0 1 \n",
      "1 1 0 0 0 0 1 1 1 0 1 1 1 0 0 \n",
      "1 0 1 0 1 0 0 0 1 0 0 0 1 1 1 \n",
      "1 1 1 0 1 1 0 1 1 1 1 1 1 1 0 \n",
      "0 1 1 1 1 1 0 1 1 0 0 1 1 1 0 \n",
      "1 1 0 1 1 1 1 1 1 0 1 1 0 1 1 \n",
      "0 0 0 1 1 0 1 1 1 1 1 1 1 1 1 \n",
      "1 1 1 1 1 1 0 1 1 1 0 0 1 1 0 \n",
      "1 0 1 0 1 1 0 0 0 1 1 0 1 1 0 \n",
      "1 0 1 1 1 1 1 1 1 1 1 1 1 1 1 \n",
      "\n",
      "1 16 31 46 61 76 91 106 106 106 106 106 106 196 211 \n",
      "2 2 32 4 62 77 92 106 122 106 152 106 106 197 106 \n",
      "3 4 4 4 4 4 93 108 110 110 110 168 106 106 106 \n",
      "4 4 34 4 64 79 94 109 110 110 110 169 106 199 214 \n",
      "4 4 35 4 65 4 95 110 110 110 110 110 110 200 215 \n",
      "6 4 4 4 4 4 96 97 110 110 110 171 110 201 215 \n",
      "7 4 37 52 67 82 97 97 97 142 110 110 110 202 217 \n",
      "7 23 7 53 68 83 98 113 110 143 158 173 110 110 110 \n",
      "7 7 7 54 7 7 99 114 110 110 110 110 110 110 219 \n",
      "10 7 7 7 7 7 100 114 110 145 160 110 110 110 220 \n",
      "11 11 41 7 7 7 7 7 114 146 7 7 191 110 7 \n",
      "12 27 42 7 7 87 7 7 7 114 7 7 7 7 7 \n",
      "13 13 13 13 7 7 103 7 114 7 163 178 7 7 223 \n",
      "13 29 13 59 13 7 104 119 134 7 7 179 7 7 224 \n",
      "13 30 13 13 13 13 7 7 7 7 7 7 7 7 7 \n"
     ]
    }
   ],
   "source": [
    "printO(t); println(); printT(t)"
   ]
  },
  {
   "cell_type": "markdown",
   "metadata": {},
   "source": [
    "The cell above shows the expected output of the group given the dataset. There are numerous paths from the left to the right parts of the network. The participants were only required to show one. Open computers are shown as `1` in the above output. _Roots_ of computers are displayed in the below grid."
   ]
  },
  {
   "cell_type": "code",
   "execution_count": 9,
   "metadata": {},
   "outputs": [
    {
     "name": "stdout",
     "output_type": "stream",
     "text": [
      "false"
     ]
    }
   ],
   "source": [
    "w = Array{Float64}(CSV.read(\"cp_14/in.csv\"))\n",
    "t = Percolation(15, 15)\n",
    "for i=1:size(w)[1]\n",
    "  openunion(t, Int.(round.(solvetriangle(TAPCO, w[i,:]...)))...)\n",
    "end\n",
    "print(percolates(t))"
   ]
  },
  {
   "cell_type": "markdown",
   "metadata": {},
   "source": [
    "The system does not percolate! See [Denied][deny] below for the solution.\n",
    "\n",
    "[deny]: #Access-Denied"
   ]
  },
  {
   "cell_type": "code",
   "execution_count": 10,
   "metadata": {},
   "outputs": [
    {
     "name": "stdout",
     "output_type": "stream",
     "text": [
      "true"
     ]
    }
   ],
   "source": [
    "w = Array{Float64}(CSV.read(\"cp_18/in.csv\"))\n",
    "t = Percolation(15, 15)\n",
    "for i=1:size(w)[1]\n",
    "  openunion(t, Int.(round.(solvetriangle(TAPCO, w[i,:]...)))...)\n",
    "end\n",
    "print(percolates(t))"
   ]
  },
  {
   "cell_type": "markdown",
   "metadata": {},
   "source": [
    "The system percolates!"
   ]
  },
  {
   "cell_type": "code",
   "execution_count": 11,
   "metadata": {},
   "outputs": [
    {
     "name": "stdout",
     "output_type": "stream",
     "text": [
      "1 1 1 1 1 1 1 0 1 0 1 1 0 1 1 \n",
      "1 1 1 1 1 0 1 1 0 0 0 1 0 0 1 \n",
      "1 0 0 0 1 1 1 1 0 0 0 0 1 1 1 \n",
      "1 1 1 1 1 1 1 1 0 0 1 1 0 0 1 \n",
      "1 1 1 1 0 1 1 1 1 0 1 0 1 1 0 \n",
      "1 1 0 1 1 1 0 1 1 1 1 1 1 1 0 \n",
      "1 1 1 0 0 1 1 1 1 1 0 1 1 1 1 \n",
      "0 0 1 1 1 0 1 1 1 0 1 1 1 0 0 \n",
      "0 1 0 1 1 1 1 0 0 1 0 1 0 1 0 \n",
      "0 0 1 1 0 0 0 1 1 1 0 1 1 0 1 \n",
      "1 1 0 1 0 1 0 1 1 1 1 1 1 1 0 \n",
      "1 0 1 0 0 0 1 1 1 1 0 1 0 1 0 \n",
      "0 0 1 0 1 1 0 1 1 1 0 1 0 1 1 \n",
      "1 1 0 1 1 0 1 1 1 1 1 1 1 0 1 \n",
      "0 1 0 0 1 1 0 1 0 1 1 1 1 1 0 \n",
      "\n",
      "1 1 1 1 1 1 1 106 121 136 151 151 181 196 183 \n",
      "1 1 1 1 1 77 1 1 122 137 152 151 182 197 183 \n",
      "1 18 33 48 1 1 1 1 123 138 153 168 183 183 183 \n",
      "1 1 1 1 1 1 1 1 124 139 154 154 184 199 183 \n",
      "1 1 1 1 65 1 1 1 1 140 154 170 1 1 215 \n",
      "1 1 36 1 1 1 96 1 1 1 1 1 1 1 216 \n",
      "1 1 1 52 67 1 1 1 1 1 157 1 1 1 1 \n",
      "8 23 1 1 1 83 1 1 1 143 158 158 1 203 218 \n",
      "9 24 39 40 1 40 1 114 129 115 159 115 189 204 219 \n",
      "10 25 40 40 70 85 100 115 115 115 160 115 115 205 220 \n",
      "11 11 41 40 71 86 101 102 115 115 115 115 115 115 221 \n",
      "11 27 42 57 72 87 102 102 102 115 162 115 192 115 222 \n",
      "13 28 42 58 73 73 103 102 102 115 163 115 193 115 115 \n",
      "14 14 44 59 59 89 102 102 102 115 115 115 115 209 115 \n",
      "15 14 45 60 59 59 105 102 135 115 115 115 115 115 225 \n"
     ]
    }
   ],
   "source": [
    "printO(t); println(); printT(t)"
   ]
  },
  {
   "cell_type": "markdown",
   "metadata": {},
   "source": [
    "The cell above shows the expected output of the group given the dataset. There are numerous paths from the left to the right parts of the network. The participants were only required to show one. Open computers are shown as `1` in the above output. _Roots_ of computers are displayed in the below grid."
   ]
  },
  {
   "cell_type": "code",
   "execution_count": 12,
   "metadata": {},
   "outputs": [
    {
     "name": "stdout",
     "output_type": "stream",
     "text": [
      "false"
     ]
    }
   ],
   "source": [
    "w = Array{Float64}(CSV.read(\"cp_28/in.csv\"))\n",
    "t = Percolation(15, 15)\n",
    "for i=1:size(w)[1]\n",
    "  openunion(t, Int.(round.(solvetriangle(TAPCO, w[i,:]...)))...)\n",
    "end\n",
    "print(percolates(t))"
   ]
  },
  {
   "cell_type": "markdown",
   "metadata": {},
   "source": [
    "The system does not percolate! See [Denied][deny] below for the solution.\n",
    "\n",
    "[deny]: #Access-Denied"
   ]
  },
  {
   "cell_type": "markdown",
   "metadata": {},
   "source": [
    "### Access-Denied\n",
    "---\n",
    "\n",
    "We will randomly generate $500$ percolating systems and we will determine the mean fraction and standard error of opened computers in the system for John and Jane to communicate."
   ]
  },
  {
   "cell_type": "code",
   "execution_count": 13,
   "metadata": {},
   "outputs": [
    {
     "name": "stdout",
     "output_type": "stream",
     "text": [
      "0.6982133333333334 0.08125544464645335"
     ]
    }
   ],
   "source": [
    "q = Vector{Float64}(); l = 0\n",
    "while l < 500\n",
    "    t = Percolation(15, 15); n = 0\n",
    "    while !percolates(t)\n",
    "        c = Int.(ceil.(rand(2).*15))\n",
    "        if !isOpen(t, c...)\n",
    "            openunion(t, c...); n+=1;\n",
    "        else\n",
    "            continue\n",
    "        end\n",
    "    end\n",
    "    push!(q, n); n=0; l+=1\n",
    "end\n",
    "print(mean(q)/225, ' ', std(q)/225)"
   ]
  },
  {
   "cell_type": "markdown",
   "metadata": {},
   "source": [
    "This means that about $70\\% \\pm 8\\%$ of computers, on the average, must be open for the system to be percolating."
   ]
  }
 ],
 "metadata": {
  "kernelspec": {
   "display_name": "Julia 0.6.0",
   "language": "julia",
   "name": "julia-0.6"
  },
  "language_info": {
   "file_extension": ".jl",
   "mimetype": "application/julia",
   "name": "julia",
   "version": "0.6.0"
  }
 },
 "nbformat": 4,
 "nbformat_minor": 2
}
